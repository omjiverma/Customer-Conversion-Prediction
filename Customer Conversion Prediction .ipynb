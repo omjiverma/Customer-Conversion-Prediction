{
 "cells": [
  {
   "cell_type": "markdown",
   "id": "c34a2c15",
   "metadata": {},
   "source": [
    "# Customer Conversion Prediction"
   ]
  },
  {
   "cell_type": "markdown",
   "id": "d1e8bb98",
   "metadata": {},
   "source": [
    "### 📖 Objective : Predict whether a customer will convert or not with Machine Learning"
   ]
  },
  {
   "cell_type": "markdown",
   "id": "f8c33526",
   "metadata": {},
   "source": [
    "### Libraries Import"
   ]
  },
  {
   "cell_type": "code",
   "execution_count": 113,
   "id": "27017155",
   "metadata": {},
   "outputs": [],
   "source": [
    "import pandas as pd\n",
    "import numpy as np\n",
    "import matplotlib.pyplot as plt\n",
    "import matplotlib\n",
    "import seaborn as sns\n",
    "%matplotlib inline\n",
    "custom_params = {\"axes.spines.right\": False, \"axes.spines.top\": False}\n",
    "sns.set_theme(style=\"white\", rc=custom_params,palette='Set1')\n",
    "# Configuring styles\n",
    "matplotlib.rcParams['font.size'] = 14\n",
    "matplotlib.rcParams['figure.figsize'] = (9, 5)\n",
    "matplotlib.rcParams['figure.facecolor'] = '#00000000'\n",
    "import imblearn\n",
    "from imblearn.under_sampling import NearMiss\n",
    "from sklearn.preprocessing import StandardScaler\n",
    "from sklearn.model_selection import train_test_split\n",
    "from tensorflow.keras.models import Sequential\n",
    "from tensorflow.keras.layers import Dense"
   ]
  },
  {
   "cell_type": "markdown",
   "id": "0ea099ff",
   "metadata": {},
   "source": [
    "### Load The Data"
   ]
  },
  {
   "cell_type": "code",
   "execution_count": 114,
   "id": "5426edc0",
   "metadata": {},
   "outputs": [],
   "source": [
    "df = pd.read_csv('./online_shoppers_intention.csv')"
   ]
  },
  {
   "cell_type": "code",
   "execution_count": 115,
   "id": "79de8f30",
   "metadata": {},
   "outputs": [
    {
     "data": {
      "text/html": [
       "<div>\n",
       "<style scoped>\n",
       "    .dataframe tbody tr th:only-of-type {\n",
       "        vertical-align: middle;\n",
       "    }\n",
       "\n",
       "    .dataframe tbody tr th {\n",
       "        vertical-align: top;\n",
       "    }\n",
       "\n",
       "    .dataframe thead th {\n",
       "        text-align: right;\n",
       "    }\n",
       "</style>\n",
       "<table border=\"1\" class=\"dataframe\">\n",
       "  <thead>\n",
       "    <tr style=\"text-align: right;\">\n",
       "      <th></th>\n",
       "      <th>Administrative</th>\n",
       "      <th>Administrative_Duration</th>\n",
       "      <th>Informational</th>\n",
       "      <th>Informational_Duration</th>\n",
       "      <th>ProductRelated</th>\n",
       "      <th>ProductRelated_Duration</th>\n",
       "      <th>BounceRates</th>\n",
       "      <th>ExitRates</th>\n",
       "      <th>PageValues</th>\n",
       "      <th>SpecialDay</th>\n",
       "      <th>Month</th>\n",
       "      <th>OperatingSystems</th>\n",
       "      <th>Browser</th>\n",
       "      <th>Region</th>\n",
       "      <th>TrafficType</th>\n",
       "      <th>VisitorType</th>\n",
       "      <th>Weekend</th>\n",
       "      <th>Revenue</th>\n",
       "    </tr>\n",
       "  </thead>\n",
       "  <tbody>\n",
       "    <tr>\n",
       "      <th>0</th>\n",
       "      <td>0</td>\n",
       "      <td>0.0</td>\n",
       "      <td>0</td>\n",
       "      <td>0.0</td>\n",
       "      <td>1</td>\n",
       "      <td>0.000000</td>\n",
       "      <td>0.20</td>\n",
       "      <td>0.20</td>\n",
       "      <td>0.0</td>\n",
       "      <td>0.0</td>\n",
       "      <td>Feb</td>\n",
       "      <td>1</td>\n",
       "      <td>1</td>\n",
       "      <td>1</td>\n",
       "      <td>1</td>\n",
       "      <td>Returning_Visitor</td>\n",
       "      <td>False</td>\n",
       "      <td>False</td>\n",
       "    </tr>\n",
       "    <tr>\n",
       "      <th>1</th>\n",
       "      <td>0</td>\n",
       "      <td>0.0</td>\n",
       "      <td>0</td>\n",
       "      <td>0.0</td>\n",
       "      <td>2</td>\n",
       "      <td>64.000000</td>\n",
       "      <td>0.00</td>\n",
       "      <td>0.10</td>\n",
       "      <td>0.0</td>\n",
       "      <td>0.0</td>\n",
       "      <td>Feb</td>\n",
       "      <td>2</td>\n",
       "      <td>2</td>\n",
       "      <td>1</td>\n",
       "      <td>2</td>\n",
       "      <td>Returning_Visitor</td>\n",
       "      <td>False</td>\n",
       "      <td>False</td>\n",
       "    </tr>\n",
       "    <tr>\n",
       "      <th>2</th>\n",
       "      <td>0</td>\n",
       "      <td>0.0</td>\n",
       "      <td>0</td>\n",
       "      <td>0.0</td>\n",
       "      <td>1</td>\n",
       "      <td>0.000000</td>\n",
       "      <td>0.20</td>\n",
       "      <td>0.20</td>\n",
       "      <td>0.0</td>\n",
       "      <td>0.0</td>\n",
       "      <td>Feb</td>\n",
       "      <td>4</td>\n",
       "      <td>1</td>\n",
       "      <td>9</td>\n",
       "      <td>3</td>\n",
       "      <td>Returning_Visitor</td>\n",
       "      <td>False</td>\n",
       "      <td>False</td>\n",
       "    </tr>\n",
       "    <tr>\n",
       "      <th>3</th>\n",
       "      <td>0</td>\n",
       "      <td>0.0</td>\n",
       "      <td>0</td>\n",
       "      <td>0.0</td>\n",
       "      <td>2</td>\n",
       "      <td>2.666667</td>\n",
       "      <td>0.05</td>\n",
       "      <td>0.14</td>\n",
       "      <td>0.0</td>\n",
       "      <td>0.0</td>\n",
       "      <td>Feb</td>\n",
       "      <td>3</td>\n",
       "      <td>2</td>\n",
       "      <td>2</td>\n",
       "      <td>4</td>\n",
       "      <td>Returning_Visitor</td>\n",
       "      <td>False</td>\n",
       "      <td>False</td>\n",
       "    </tr>\n",
       "    <tr>\n",
       "      <th>4</th>\n",
       "      <td>0</td>\n",
       "      <td>0.0</td>\n",
       "      <td>0</td>\n",
       "      <td>0.0</td>\n",
       "      <td>10</td>\n",
       "      <td>627.500000</td>\n",
       "      <td>0.02</td>\n",
       "      <td>0.05</td>\n",
       "      <td>0.0</td>\n",
       "      <td>0.0</td>\n",
       "      <td>Feb</td>\n",
       "      <td>3</td>\n",
       "      <td>3</td>\n",
       "      <td>1</td>\n",
       "      <td>4</td>\n",
       "      <td>Returning_Visitor</td>\n",
       "      <td>True</td>\n",
       "      <td>False</td>\n",
       "    </tr>\n",
       "  </tbody>\n",
       "</table>\n",
       "</div>"
      ],
      "text/plain": [
       "   Administrative  Administrative_Duration  Informational  \\\n",
       "0               0                      0.0              0   \n",
       "1               0                      0.0              0   \n",
       "2               0                      0.0              0   \n",
       "3               0                      0.0              0   \n",
       "4               0                      0.0              0   \n",
       "\n",
       "   Informational_Duration  ProductRelated  ProductRelated_Duration  \\\n",
       "0                     0.0               1                 0.000000   \n",
       "1                     0.0               2                64.000000   \n",
       "2                     0.0               1                 0.000000   \n",
       "3                     0.0               2                 2.666667   \n",
       "4                     0.0              10               627.500000   \n",
       "\n",
       "   BounceRates  ExitRates  PageValues  SpecialDay Month  OperatingSystems  \\\n",
       "0         0.20       0.20         0.0         0.0   Feb                 1   \n",
       "1         0.00       0.10         0.0         0.0   Feb                 2   \n",
       "2         0.20       0.20         0.0         0.0   Feb                 4   \n",
       "3         0.05       0.14         0.0         0.0   Feb                 3   \n",
       "4         0.02       0.05         0.0         0.0   Feb                 3   \n",
       "\n",
       "   Browser  Region  TrafficType        VisitorType  Weekend  Revenue  \n",
       "0        1       1            1  Returning_Visitor    False    False  \n",
       "1        2       1            2  Returning_Visitor    False    False  \n",
       "2        1       9            3  Returning_Visitor    False    False  \n",
       "3        2       2            4  Returning_Visitor    False    False  \n",
       "4        3       1            4  Returning_Visitor     True    False  "
      ]
     },
     "execution_count": 115,
     "metadata": {},
     "output_type": "execute_result"
    }
   ],
   "source": [
    "df.head()"
   ]
  },
  {
   "cell_type": "markdown",
   "id": "7bc4c9d5",
   "metadata": {},
   "source": [
    "### Exploratory Data Analysis"
   ]
  },
  {
   "cell_type": "code",
   "execution_count": 116,
   "id": "71b3150d",
   "metadata": {},
   "outputs": [
    {
     "name": "stdout",
     "output_type": "stream",
     "text": [
      "<class 'pandas.core.frame.DataFrame'>\n",
      "RangeIndex: 12330 entries, 0 to 12329\n",
      "Data columns (total 18 columns):\n",
      " #   Column                   Non-Null Count  Dtype  \n",
      "---  ------                   --------------  -----  \n",
      " 0   Administrative           12330 non-null  int64  \n",
      " 1   Administrative_Duration  12330 non-null  float64\n",
      " 2   Informational            12330 non-null  int64  \n",
      " 3   Informational_Duration   12330 non-null  float64\n",
      " 4   ProductRelated           12330 non-null  int64  \n",
      " 5   ProductRelated_Duration  12330 non-null  float64\n",
      " 6   BounceRates              12330 non-null  float64\n",
      " 7   ExitRates                12330 non-null  float64\n",
      " 8   PageValues               12330 non-null  float64\n",
      " 9   SpecialDay               12330 non-null  float64\n",
      " 10  Month                    12330 non-null  object \n",
      " 11  OperatingSystems         12330 non-null  int64  \n",
      " 12  Browser                  12330 non-null  int64  \n",
      " 13  Region                   12330 non-null  int64  \n",
      " 14  TrafficType              12330 non-null  int64  \n",
      " 15  VisitorType              12330 non-null  object \n",
      " 16  Weekend                  12330 non-null  bool   \n",
      " 17  Revenue                  12330 non-null  bool   \n",
      "dtypes: bool(2), float64(7), int64(7), object(2)\n",
      "memory usage: 1.5+ MB\n"
     ]
    }
   ],
   "source": [
    "df.info()"
   ]
  },
  {
   "cell_type": "markdown",
   "id": "36334092",
   "metadata": {},
   "source": [
    "### Shape of dataset"
   ]
  },
  {
   "cell_type": "code",
   "execution_count": 117,
   "id": "384c4f52",
   "metadata": {},
   "outputs": [
    {
     "data": {
      "text/plain": [
       "(12330, 18)"
      ]
     },
     "execution_count": 117,
     "metadata": {},
     "output_type": "execute_result"
    }
   ],
   "source": [
    "df.shape"
   ]
  },
  {
   "cell_type": "markdown",
   "id": "898bd6e6",
   "metadata": {},
   "source": [
    "### Columns Data type"
   ]
  },
  {
   "cell_type": "code",
   "execution_count": 118,
   "id": "8659f662",
   "metadata": {},
   "outputs": [
    {
     "data": {
      "text/plain": [
       "Administrative               int64\n",
       "Administrative_Duration    float64\n",
       "Informational                int64\n",
       "Informational_Duration     float64\n",
       "ProductRelated               int64\n",
       "ProductRelated_Duration    float64\n",
       "BounceRates                float64\n",
       "ExitRates                  float64\n",
       "PageValues                 float64\n",
       "SpecialDay                 float64\n",
       "Month                       object\n",
       "OperatingSystems             int64\n",
       "Browser                      int64\n",
       "Region                       int64\n",
       "TrafficType                  int64\n",
       "VisitorType                 object\n",
       "Weekend                       bool\n",
       "Revenue                       bool\n",
       "dtype: object"
      ]
     },
     "execution_count": 118,
     "metadata": {},
     "output_type": "execute_result"
    }
   ],
   "source": [
    "df.dtypes"
   ]
  },
  {
   "cell_type": "markdown",
   "id": "511642f1",
   "metadata": {},
   "source": [
    "### Columns in dataset"
   ]
  },
  {
   "cell_type": "code",
   "execution_count": 119,
   "id": "c87fbe02",
   "metadata": {},
   "outputs": [
    {
     "data": {
      "text/plain": [
       "Index(['Administrative', 'Administrative_Duration', 'Informational',\n",
       "       'Informational_Duration', 'ProductRelated', 'ProductRelated_Duration',\n",
       "       'BounceRates', 'ExitRates', 'PageValues', 'SpecialDay', 'Month',\n",
       "       'OperatingSystems', 'Browser', 'Region', 'TrafficType', 'VisitorType',\n",
       "       'Weekend', 'Revenue'],\n",
       "      dtype='object')"
      ]
     },
     "execution_count": 119,
     "metadata": {},
     "output_type": "execute_result"
    }
   ],
   "source": [
    "df.columns"
   ]
  },
  {
   "cell_type": "markdown",
   "id": "78b77665",
   "metadata": {},
   "source": [
    "### Null values in dataset"
   ]
  },
  {
   "cell_type": "code",
   "execution_count": 120,
   "id": "2c911f05",
   "metadata": {},
   "outputs": [
    {
     "data": {
      "text/plain": [
       "Administrative             0\n",
       "Administrative_Duration    0\n",
       "Informational              0\n",
       "Informational_Duration     0\n",
       "ProductRelated             0\n",
       "ProductRelated_Duration    0\n",
       "BounceRates                0\n",
       "ExitRates                  0\n",
       "PageValues                 0\n",
       "SpecialDay                 0\n",
       "Month                      0\n",
       "OperatingSystems           0\n",
       "Browser                    0\n",
       "Region                     0\n",
       "TrafficType                0\n",
       "VisitorType                0\n",
       "Weekend                    0\n",
       "Revenue                    0\n",
       "dtype: int64"
      ]
     },
     "execution_count": 120,
     "metadata": {},
     "output_type": "execute_result"
    }
   ],
   "source": [
    "df.isna().sum()"
   ]
  },
  {
   "cell_type": "markdown",
   "id": "dec47675",
   "metadata": {},
   "source": [
    "### Data Preprocessing"
   ]
  },
  {
   "cell_type": "code",
   "execution_count": 121,
   "id": "d3e5e8aa",
   "metadata": {},
   "outputs": [],
   "source": [
    "#Input and Target Column\n",
    "input_features = df.columns[:-1]\n",
    "target_features = df.columns[-1]\n",
    "# Input and Target Values\n",
    "X = df[input_features]\n",
    "y = df[target_features]\n",
    "# Numerical and Categorical Features\n",
    "num_features = X.select_dtypes(include=np.number).columns.tolist()\n",
    "cat_features = X.select_dtypes('object').columns.tolist()"
   ]
  },
  {
   "cell_type": "code",
   "execution_count": 122,
   "id": "5b48adbb",
   "metadata": {},
   "outputs": [
    {
     "name": "stderr",
     "output_type": "stream",
     "text": [
      "C:\\Users\\OMJI\\AppData\\Local\\Temp\\ipykernel_95060\\281864961.py:2: SettingWithCopyWarning: \n",
      "A value is trying to be set on a copy of a slice from a DataFrame.\n",
      "Try using .loc[row_indexer,col_indexer] = value instead\n",
      "\n",
      "See the caveats in the documentation: https://pandas.pydata.org/pandas-docs/stable/user_guide/indexing.html#returning-a-view-versus-a-copy\n",
      "  X['Month'] = X['Month'].replace({'Jan':1,'Feb':2,'Mar':3,'Apr':4,'May':5,'June':6,\n"
     ]
    }
   ],
   "source": [
    "# Encoding Variables\n",
    "X['Month'] = X['Month'].replace({'Jan':1,'Feb':2,'Mar':3,'Apr':4,'May':5,'June':6,\n",
    "                    'Jul':7,'Aug':8,'Sep':9,'Oct':10,'Nov':11,'Dec':12})\n",
    "dummies = pd.get_dummies(df['VisitorType'], prefix = 'VisitorType', prefix_sep = '_')\n",
    "X[dummies.columns] = dummies\n",
    "X.drop('VisitorType',axis=1,inplace=True)\n",
    "X['Weekend'] = X['Weekend'].replace({True:1,False:0})\n",
    "y=y.replace({True:1,False:0})"
   ]
  },
  {
   "cell_type": "code",
   "execution_count": 123,
   "id": "a92c88da",
   "metadata": {},
   "outputs": [
    {
     "data": {
      "text/plain": [
       "0    10422\n",
       "1     1908\n",
       "Name: Revenue, dtype: int64"
      ]
     },
     "execution_count": 123,
     "metadata": {},
     "output_type": "execute_result"
    }
   ],
   "source": [
    "# Check for imbalance dataset\n",
    "y.value_counts()"
   ]
  },
  {
   "cell_type": "code",
   "execution_count": 124,
   "id": "3ebedaa1",
   "metadata": {},
   "outputs": [],
   "source": [
    "# define the undersampling method\n",
    "undersample = NearMiss(version=1, n_neighbors=3)\n",
    "# transform the dataset\n",
    "X, y = undersample.fit_resample(X, y)"
   ]
  },
  {
   "cell_type": "code",
   "execution_count": 125,
   "id": "fce68643",
   "metadata": {},
   "outputs": [],
   "source": [
    "X_train, X_test, y_train, y_test = train_test_split(X, y, test_size=0.15, random_state=40)\n",
    "X_train, X_val, y_train, y_val = train_test_split(X_train, y_train, test_size=0.10, random_state=40)"
   ]
  },
  {
   "cell_type": "code",
   "execution_count": 126,
   "id": "318c7e20",
   "metadata": {},
   "outputs": [],
   "source": [
    "scaler = StandardScaler()\n",
    "scaler.fit(X_train[num_features])\n",
    "X_train[num_features] = scaler.transform(X_train[num_features])\n",
    "X_test[num_features] = scaler.transform(X_test[num_features])\n",
    "X_val[num_features] = scaler.transform(X_val[num_features])"
   ]
  },
  {
   "cell_type": "markdown",
   "id": "5ed48198",
   "metadata": {},
   "source": [
    "## ANN Model Building"
   ]
  },
  {
   "cell_type": "code",
   "execution_count": 97,
   "id": "300435e7",
   "metadata": {},
   "outputs": [],
   "source": [
    "model =Sequential()\n",
    "model.add(Dense(20, activation='relu'))\n",
    "model.add(Dense(20, activation='relu'))\n",
    "model.add(Dense(1, activation='sigmoid'))\n",
    "model.compile(optimizer='adam', loss='binary_crossentropy', metrics = ['accuracy'])"
   ]
  },
  {
   "cell_type": "code",
   "execution_count": 127,
   "id": "02f70501",
   "metadata": {},
   "outputs": [
    {
     "name": "stdout",
     "output_type": "stream",
     "text": [
      "Epoch 1/60\n",
      "15/15 [==============================] - 0s 7ms/step - loss: 0.0919 - accuracy: 0.9650 - val_loss: 0.0983 - val_accuracy: 0.9662\n",
      "Epoch 2/60\n",
      "15/15 [==============================] - 0s 5ms/step - loss: 0.0920 - accuracy: 0.9674 - val_loss: 0.0976 - val_accuracy: 0.9631\n",
      "Epoch 3/60\n",
      "15/15 [==============================] - 0s 4ms/step - loss: 0.0916 - accuracy: 0.9661 - val_loss: 0.0978 - val_accuracy: 0.9692\n",
      "Epoch 4/60\n",
      "15/15 [==============================] - 0s 4ms/step - loss: 0.0912 - accuracy: 0.9654 - val_loss: 0.0975 - val_accuracy: 0.9662\n",
      "Epoch 5/60\n",
      "15/15 [==============================] - 0s 4ms/step - loss: 0.0910 - accuracy: 0.9657 - val_loss: 0.0980 - val_accuracy: 0.9662\n",
      "Epoch 6/60\n",
      "15/15 [==============================] - 0s 5ms/step - loss: 0.0908 - accuracy: 0.9668 - val_loss: 0.0970 - val_accuracy: 0.9692\n",
      "Epoch 7/60\n",
      "15/15 [==============================] - 0s 4ms/step - loss: 0.0910 - accuracy: 0.9654 - val_loss: 0.0973 - val_accuracy: 0.9662\n",
      "Epoch 8/60\n",
      "15/15 [==============================] - 0s 4ms/step - loss: 0.0907 - accuracy: 0.9654 - val_loss: 0.0970 - val_accuracy: 0.9692\n",
      "Epoch 9/60\n",
      "15/15 [==============================] - 0s 5ms/step - loss: 0.0904 - accuracy: 0.9671 - val_loss: 0.0974 - val_accuracy: 0.9631\n",
      "Epoch 10/60\n",
      "15/15 [==============================] - 0s 4ms/step - loss: 0.0907 - accuracy: 0.9650 - val_loss: 0.1014 - val_accuracy: 0.9600\n",
      "Epoch 11/60\n",
      "15/15 [==============================] - 0s 5ms/step - loss: 0.0918 - accuracy: 0.9657 - val_loss: 0.0986 - val_accuracy: 0.9631\n",
      "Epoch 12/60\n",
      "15/15 [==============================] - 0s 5ms/step - loss: 0.0900 - accuracy: 0.9668 - val_loss: 0.0968 - val_accuracy: 0.9631\n",
      "Epoch 13/60\n",
      "15/15 [==============================] - 0s 6ms/step - loss: 0.0902 - accuracy: 0.9657 - val_loss: 0.0999 - val_accuracy: 0.9631\n",
      "Epoch 14/60\n",
      "15/15 [==============================] - 0s 4ms/step - loss: 0.0894 - accuracy: 0.9671 - val_loss: 0.0971 - val_accuracy: 0.9662\n",
      "Epoch 15/60\n",
      "15/15 [==============================] - 0s 4ms/step - loss: 0.0906 - accuracy: 0.9671 - val_loss: 0.0999 - val_accuracy: 0.9631\n",
      "Epoch 16/60\n",
      "15/15 [==============================] - 0s 6ms/step - loss: 0.0908 - accuracy: 0.9657 - val_loss: 0.0982 - val_accuracy: 0.9662\n",
      "Epoch 17/60\n",
      "15/15 [==============================] - 0s 4ms/step - loss: 0.0891 - accuracy: 0.9671 - val_loss: 0.0981 - val_accuracy: 0.9662\n",
      "Epoch 18/60\n",
      "15/15 [==============================] - 0s 4ms/step - loss: 0.0901 - accuracy: 0.9654 - val_loss: 0.0979 - val_accuracy: 0.9631\n",
      "Epoch 19/60\n",
      "15/15 [==============================] - 0s 4ms/step - loss: 0.0923 - accuracy: 0.9650 - val_loss: 0.0973 - val_accuracy: 0.9662\n",
      "Epoch 20/60\n",
      "15/15 [==============================] - 0s 4ms/step - loss: 0.0910 - accuracy: 0.9678 - val_loss: 0.0981 - val_accuracy: 0.9631\n",
      "Epoch 21/60\n",
      "15/15 [==============================] - 0s 5ms/step - loss: 0.0905 - accuracy: 0.9664 - val_loss: 0.0980 - val_accuracy: 0.9662\n",
      "Epoch 22/60\n",
      "15/15 [==============================] - 0s 5ms/step - loss: 0.0888 - accuracy: 0.9668 - val_loss: 0.0992 - val_accuracy: 0.9631\n",
      "Epoch 23/60\n",
      "15/15 [==============================] - 0s 6ms/step - loss: 0.0889 - accuracy: 0.9664 - val_loss: 0.0973 - val_accuracy: 0.9662\n",
      "Epoch 24/60\n",
      "15/15 [==============================] - 0s 4ms/step - loss: 0.0888 - accuracy: 0.9661 - val_loss: 0.0979 - val_accuracy: 0.9662\n",
      "Epoch 25/60\n",
      "15/15 [==============================] - 0s 5ms/step - loss: 0.0886 - accuracy: 0.9654 - val_loss: 0.0993 - val_accuracy: 0.9600\n",
      "Epoch 26/60\n",
      "15/15 [==============================] - 0s 5ms/step - loss: 0.0879 - accuracy: 0.9668 - val_loss: 0.0978 - val_accuracy: 0.9662\n",
      "Epoch 27/60\n",
      "15/15 [==============================] - 0s 5ms/step - loss: 0.0890 - accuracy: 0.9657 - val_loss: 0.1014 - val_accuracy: 0.9631\n",
      "Epoch 28/60\n",
      "15/15 [==============================] - 0s 5ms/step - loss: 0.0889 - accuracy: 0.9657 - val_loss: 0.0988 - val_accuracy: 0.9662\n",
      "Epoch 29/60\n",
      "15/15 [==============================] - 0s 4ms/step - loss: 0.0881 - accuracy: 0.9671 - val_loss: 0.0989 - val_accuracy: 0.9631\n",
      "Epoch 30/60\n",
      "15/15 [==============================] - 0s 5ms/step - loss: 0.0880 - accuracy: 0.9668 - val_loss: 0.0995 - val_accuracy: 0.9600\n",
      "Epoch 31/60\n",
      "15/15 [==============================] - 0s 4ms/step - loss: 0.0884 - accuracy: 0.9671 - val_loss: 0.0996 - val_accuracy: 0.9631\n",
      "Epoch 32/60\n",
      "15/15 [==============================] - 0s 5ms/step - loss: 0.0872 - accuracy: 0.9668 - val_loss: 0.0988 - val_accuracy: 0.9631\n",
      "Epoch 33/60\n",
      "15/15 [==============================] - 0s 5ms/step - loss: 0.0874 - accuracy: 0.9681 - val_loss: 0.1020 - val_accuracy: 0.9631\n",
      "Epoch 34/60\n",
      "15/15 [==============================] - 0s 6ms/step - loss: 0.0879 - accuracy: 0.9664 - val_loss: 0.0998 - val_accuracy: 0.9662\n",
      "Epoch 35/60\n",
      "15/15 [==============================] - 0s 5ms/step - loss: 0.0865 - accuracy: 0.9668 - val_loss: 0.0998 - val_accuracy: 0.9662\n",
      "Epoch 36/60\n",
      "15/15 [==============================] - 0s 5ms/step - loss: 0.0907 - accuracy: 0.9657 - val_loss: 0.0997 - val_accuracy: 0.9662\n",
      "Epoch 37/60\n",
      "15/15 [==============================] - 0s 4ms/step - loss: 0.0870 - accuracy: 0.9692 - val_loss: 0.0998 - val_accuracy: 0.9692\n",
      "Epoch 38/60\n",
      "15/15 [==============================] - 0s 4ms/step - loss: 0.0871 - accuracy: 0.9681 - val_loss: 0.1004 - val_accuracy: 0.9662\n",
      "Epoch 39/60\n",
      "15/15 [==============================] - 0s 4ms/step - loss: 0.0862 - accuracy: 0.9674 - val_loss: 0.1000 - val_accuracy: 0.9631\n",
      "Epoch 40/60\n",
      "15/15 [==============================] - 0s 4ms/step - loss: 0.0861 - accuracy: 0.9681 - val_loss: 0.1016 - val_accuracy: 0.9662\n",
      "Epoch 41/60\n",
      "15/15 [==============================] - 0s 4ms/step - loss: 0.0865 - accuracy: 0.9685 - val_loss: 0.1003 - val_accuracy: 0.9631\n",
      "Epoch 42/60\n",
      "15/15 [==============================] - 0s 4ms/step - loss: 0.0864 - accuracy: 0.9695 - val_loss: 0.0999 - val_accuracy: 0.9662\n",
      "Epoch 43/60\n",
      "15/15 [==============================] - 0s 4ms/step - loss: 0.0865 - accuracy: 0.9681 - val_loss: 0.1011 - val_accuracy: 0.9662\n",
      "Epoch 44/60\n",
      "15/15 [==============================] - 0s 4ms/step - loss: 0.0863 - accuracy: 0.9685 - val_loss: 0.1000 - val_accuracy: 0.9662\n",
      "Epoch 45/60\n",
      "15/15 [==============================] - 0s 5ms/step - loss: 0.0856 - accuracy: 0.9678 - val_loss: 0.1013 - val_accuracy: 0.9662\n",
      "Epoch 46/60\n",
      "15/15 [==============================] - 0s 4ms/step - loss: 0.0851 - accuracy: 0.9678 - val_loss: 0.0997 - val_accuracy: 0.9662\n",
      "Epoch 47/60\n",
      "15/15 [==============================] - 0s 5ms/step - loss: 0.0866 - accuracy: 0.9674 - val_loss: 0.1006 - val_accuracy: 0.9662\n",
      "Epoch 48/60\n",
      "15/15 [==============================] - 0s 4ms/step - loss: 0.0867 - accuracy: 0.9668 - val_loss: 0.1017 - val_accuracy: 0.9692\n",
      "Epoch 49/60\n",
      "15/15 [==============================] - 0s 4ms/step - loss: 0.0857 - accuracy: 0.9695 - val_loss: 0.1019 - val_accuracy: 0.9631\n",
      "Epoch 50/60\n",
      "15/15 [==============================] - 0s 5ms/step - loss: 0.0850 - accuracy: 0.9681 - val_loss: 0.1010 - val_accuracy: 0.9662\n",
      "Epoch 51/60\n",
      "15/15 [==============================] - 0s 4ms/step - loss: 0.0851 - accuracy: 0.9681 - val_loss: 0.1009 - val_accuracy: 0.9662\n",
      "Epoch 52/60\n",
      "15/15 [==============================] - 0s 5ms/step - loss: 0.0845 - accuracy: 0.9674 - val_loss: 0.1019 - val_accuracy: 0.9662\n",
      "Epoch 53/60\n",
      "15/15 [==============================] - 0s 4ms/step - loss: 0.0846 - accuracy: 0.9668 - val_loss: 0.1019 - val_accuracy: 0.9662\n",
      "Epoch 54/60\n",
      "15/15 [==============================] - 0s 4ms/step - loss: 0.0846 - accuracy: 0.9674 - val_loss: 0.1008 - val_accuracy: 0.9662\n",
      "Epoch 55/60\n",
      "15/15 [==============================] - 0s 4ms/step - loss: 0.0844 - accuracy: 0.9681 - val_loss: 0.1020 - val_accuracy: 0.9662\n",
      "Epoch 56/60\n",
      "15/15 [==============================] - 0s 4ms/step - loss: 0.0838 - accuracy: 0.9678 - val_loss: 0.1003 - val_accuracy: 0.9662\n",
      "Epoch 57/60\n",
      "15/15 [==============================] - 0s 4ms/step - loss: 0.0838 - accuracy: 0.9688 - val_loss: 0.1009 - val_accuracy: 0.9662\n",
      "Epoch 58/60\n",
      "15/15 [==============================] - 0s 4ms/step - loss: 0.0847 - accuracy: 0.9685 - val_loss: 0.1015 - val_accuracy: 0.9662\n",
      "Epoch 59/60\n",
      "15/15 [==============================] - 0s 4ms/step - loss: 0.0841 - accuracy: 0.9674 - val_loss: 0.1029 - val_accuracy: 0.9631\n",
      "Epoch 60/60\n",
      "15/15 [==============================] - 0s 5ms/step - loss: 0.0847 - accuracy: 0.9681 - val_loss: 0.1032 - val_accuracy: 0.9600\n"
     ]
    },
    {
     "data": {
      "text/plain": [
       "<keras.callbacks.History at 0x21fc515abc0>"
      ]
     },
     "execution_count": 127,
     "metadata": {},
     "output_type": "execute_result"
    }
   ],
   "source": [
    "# Model Fitting\n",
    "model.fit(X_train, y_train, batch_size = 200, epochs = 60,validation_data = (X_val, y_val))"
   ]
  },
  {
   "cell_type": "markdown",
   "id": "1bd1a431",
   "metadata": {},
   "source": [
    "### Evaluating Model on Test data"
   ]
  },
  {
   "cell_type": "code",
   "execution_count": 130,
   "id": "645b5d74",
   "metadata": {},
   "outputs": [
    {
     "name": "stdout",
     "output_type": "stream",
     "text": [
      "18/18 [==============================] - 0s 2ms/step - loss: 0.1171 - accuracy: 0.9546\n"
     ]
    },
    {
     "data": {
      "text/plain": [
       "[0.1170840859413147, 0.9546247720718384]"
      ]
     },
     "execution_count": 130,
     "metadata": {},
     "output_type": "execute_result"
    }
   ],
   "source": [
    "model.evaluate(X_test,y_test)"
   ]
  },
  {
   "cell_type": "markdown",
   "id": "0c6f6233",
   "metadata": {},
   "source": [
    "Achieved 95% Accuracy on unseen data"
   ]
  },
  {
   "cell_type": "markdown",
   "id": "bebb5497",
   "metadata": {},
   "source": [
    "### Predicting for test data"
   ]
  },
  {
   "cell_type": "code",
   "execution_count": 131,
   "id": "6000797e",
   "metadata": {},
   "outputs": [
    {
     "name": "stdout",
     "output_type": "stream",
     "text": [
      "18/18 [==============================] - 0s 2ms/step\n"
     ]
    }
   ],
   "source": [
    "preds = model.predict(X_test)\n",
    "y_pred = np.array([1 * (x[0]>=0.5) for x in preds])"
   ]
  },
  {
   "cell_type": "code",
   "execution_count": 132,
   "id": "39fc67ff",
   "metadata": {},
   "outputs": [
    {
     "data": {
      "text/plain": [
       "array([1, 0, 1, 0, 0, 1, 1, 1, 1, 0, 1, 0, 0, 1, 1, 1, 1, 1, 1, 0, 1, 0,\n",
       "       0, 1, 0, 0, 0, 1, 0, 0, 0, 1, 1, 0, 1, 0, 0, 0, 0, 0, 1, 1, 0, 1,\n",
       "       0, 0, 0, 0, 0, 0, 0, 1, 0, 1, 1, 1, 0, 1, 1, 0, 1, 1, 0, 1, 0, 0,\n",
       "       0, 1, 1, 1, 0, 0, 1, 0, 0, 0, 0, 0, 1, 1, 0, 0, 1, 0, 1, 0, 0, 1,\n",
       "       0, 0, 0, 0, 1, 1, 1, 1, 0, 0, 0, 1, 1, 0, 0, 0, 0, 0, 0, 1, 0, 1,\n",
       "       0, 1, 0, 1, 0, 0, 1, 0, 0, 1, 1, 0, 1, 1, 0, 0, 1, 1, 0, 1, 1, 1,\n",
       "       0, 0, 1, 0, 0, 0, 0, 1, 1, 1, 0, 1, 0, 1, 1, 1, 1, 1, 1, 1, 0, 1,\n",
       "       0, 0, 0, 0, 1, 1, 1, 1, 1, 0, 1, 1, 1, 0, 0, 1, 0, 0, 1, 0, 1, 0,\n",
       "       1, 0, 0, 0, 0, 0, 0, 0, 1, 1, 1, 0, 1, 1, 1, 0, 0, 0, 1, 1, 1, 1,\n",
       "       1, 1, 0, 1, 0, 0, 0, 0, 1, 0, 1, 0, 1, 1, 0, 0, 0, 1, 0, 1, 1, 0,\n",
       "       0, 1, 0, 1, 1, 0, 1, 1, 0, 0, 0, 0, 0, 1, 1, 0, 1, 0, 1, 1, 0, 1,\n",
       "       1, 0, 1, 0, 1, 0, 0, 0, 1, 0, 0, 1, 0, 1, 1, 1, 0, 0, 1, 0, 1, 0,\n",
       "       0, 0, 1, 0, 1, 0, 1, 0, 1, 0, 1, 1, 1, 0, 0, 0, 0, 0, 1, 1, 0, 1,\n",
       "       0, 1, 0, 1, 1, 0, 1, 1, 0, 0, 0, 1, 0, 0, 0, 0, 0, 0, 1, 0, 1, 0,\n",
       "       1, 0, 0, 0, 1, 0, 0, 1, 1, 0, 1, 0, 0, 0, 0, 1, 1, 0, 1, 0, 0, 1,\n",
       "       0, 0, 1, 1, 1, 1, 0, 0, 0, 0, 0, 0, 1, 1, 0, 0, 0, 0, 0, 0, 0, 0,\n",
       "       0, 0, 1, 1, 0, 0, 1, 1, 0, 1, 1, 1, 0, 1, 1, 0, 1, 1, 1, 1, 0, 1,\n",
       "       1, 0, 0, 0, 0, 1, 1, 1, 1, 1, 1, 0, 0, 1, 1, 0, 0, 1, 1, 1, 0, 1,\n",
       "       0, 1, 1, 0, 0, 0, 1, 0, 0, 1, 0, 1, 0, 0, 1, 0, 1, 0, 1, 1, 0, 0,\n",
       "       0, 1, 0, 0, 1, 0, 0, 0, 0, 0, 0, 1, 0, 0, 1, 1, 1, 1, 1, 0, 0, 1,\n",
       "       1, 1, 1, 1, 0, 1, 1, 1, 0, 0, 1, 1, 0, 1, 1, 0, 1, 0, 0, 1, 0, 0,\n",
       "       0, 0, 1, 1, 0, 1, 1, 1, 0, 1, 0, 0, 1, 0, 1, 1, 0, 0, 1, 0, 0, 1,\n",
       "       0, 0, 1, 1, 1, 0, 0, 0, 1, 1, 0, 1, 1, 1, 0, 0, 1, 0, 0, 1, 1, 1,\n",
       "       1, 1, 0, 1, 0, 1, 0, 0, 0, 0, 0, 1, 1, 0, 0, 1, 0, 1, 1, 1, 1, 1,\n",
       "       1, 1, 0, 1, 1, 1, 0, 1, 0, 0, 0, 0, 0, 1, 0, 0, 0, 0, 1, 1, 1, 0,\n",
       "       0, 1, 1, 0, 1, 1, 1, 0, 1, 1, 1, 1, 1, 0, 1, 0, 1, 1, 0, 1, 0, 0,\n",
       "       0])"
      ]
     },
     "execution_count": 132,
     "metadata": {},
     "output_type": "execute_result"
    }
   ],
   "source": [
    "y_pred"
   ]
  },
  {
   "cell_type": "code",
   "execution_count": null,
   "id": "98bfbb23",
   "metadata": {},
   "outputs": [],
   "source": []
  }
 ],
 "metadata": {
  "kernelspec": {
   "display_name": "Python 3 (ipykernel)",
   "language": "python",
   "name": "python3"
  },
  "language_info": {
   "codemirror_mode": {
    "name": "ipython",
    "version": 3
   },
   "file_extension": ".py",
   "mimetype": "text/x-python",
   "name": "python",
   "nbconvert_exporter": "python",
   "pygments_lexer": "ipython3",
   "version": "3.10.4"
  }
 },
 "nbformat": 4,
 "nbformat_minor": 5
}
